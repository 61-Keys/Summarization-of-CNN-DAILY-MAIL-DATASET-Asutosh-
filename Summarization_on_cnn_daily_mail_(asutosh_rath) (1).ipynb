{
  "nbformat": 4,
  "nbformat_minor": 0,
  "metadata": {
    "colab": {
      "provenance": []
    },
    "kernelspec": {
      "name": "python3",
      "display_name": "Python 3"
    },
    "language_info": {
      "name": "python"
    },
    "widgets": {
      "application/vnd.jupyter.widget-state+json": {
        "3e7eb46e061f4502a731adcd9b1a3307": {
          "model_module": "@jupyter-widgets/controls",
          "model_name": "HBoxModel",
          "model_module_version": "1.5.0",
          "state": {
            "_dom_classes": [],
            "_model_module": "@jupyter-widgets/controls",
            "_model_module_version": "1.5.0",
            "_model_name": "HBoxModel",
            "_view_count": null,
            "_view_module": "@jupyter-widgets/controls",
            "_view_module_version": "1.5.0",
            "_view_name": "HBoxView",
            "box_style": "",
            "children": [
              "IPY_MODEL_7d528b269ec541199551d91f0c6abf48",
              "IPY_MODEL_7190e25b7fc34cf49dc7b62f173585f9",
              "IPY_MODEL_0bb175375eea4883b8874bb389578e83"
            ],
            "layout": "IPY_MODEL_6c932e00d2c645efb5b748bd54cab000"
          }
        },
        "7d528b269ec541199551d91f0c6abf48": {
          "model_module": "@jupyter-widgets/controls",
          "model_name": "HTMLModel",
          "model_module_version": "1.5.0",
          "state": {
            "_dom_classes": [],
            "_model_module": "@jupyter-widgets/controls",
            "_model_module_version": "1.5.0",
            "_model_name": "HTMLModel",
            "_view_count": null,
            "_view_module": "@jupyter-widgets/controls",
            "_view_module_version": "1.5.0",
            "_view_name": "HTMLView",
            "description": "",
            "description_tooltip": null,
            "layout": "IPY_MODEL_b56242ca24d744a1b00f3166dd5f9860",
            "placeholder": "​",
            "style": "IPY_MODEL_09293512357f4345a5db32efb11aa80a",
            "value": "100%"
          }
        },
        "7190e25b7fc34cf49dc7b62f173585f9": {
          "model_module": "@jupyter-widgets/controls",
          "model_name": "FloatProgressModel",
          "model_module_version": "1.5.0",
          "state": {
            "_dom_classes": [],
            "_model_module": "@jupyter-widgets/controls",
            "_model_module_version": "1.5.0",
            "_model_name": "FloatProgressModel",
            "_view_count": null,
            "_view_module": "@jupyter-widgets/controls",
            "_view_module_version": "1.5.0",
            "_view_name": "ProgressView",
            "bar_style": "success",
            "description": "",
            "description_tooltip": null,
            "layout": "IPY_MODEL_ca569cbb5f30404da115359d2cc77a96",
            "max": 3,
            "min": 0,
            "orientation": "horizontal",
            "style": "IPY_MODEL_a2fd0c8b469f4e3ebeacbe1daf29a071",
            "value": 3
          }
        },
        "0bb175375eea4883b8874bb389578e83": {
          "model_module": "@jupyter-widgets/controls",
          "model_name": "HTMLModel",
          "model_module_version": "1.5.0",
          "state": {
            "_dom_classes": [],
            "_model_module": "@jupyter-widgets/controls",
            "_model_module_version": "1.5.0",
            "_model_name": "HTMLModel",
            "_view_count": null,
            "_view_module": "@jupyter-widgets/controls",
            "_view_module_version": "1.5.0",
            "_view_name": "HTMLView",
            "description": "",
            "description_tooltip": null,
            "layout": "IPY_MODEL_1ef4bbec492141808016c0121d82db01",
            "placeholder": "​",
            "style": "IPY_MODEL_6cce36ca19ca4407873b089188702641",
            "value": " 3/3 [00:03&lt;00:00,  1.31it/s]"
          }
        },
        "6c932e00d2c645efb5b748bd54cab000": {
          "model_module": "@jupyter-widgets/base",
          "model_name": "LayoutModel",
          "model_module_version": "1.2.0",
          "state": {
            "_model_module": "@jupyter-widgets/base",
            "_model_module_version": "1.2.0",
            "_model_name": "LayoutModel",
            "_view_count": null,
            "_view_module": "@jupyter-widgets/base",
            "_view_module_version": "1.2.0",
            "_view_name": "LayoutView",
            "align_content": null,
            "align_items": null,
            "align_self": null,
            "border": null,
            "bottom": null,
            "display": null,
            "flex": null,
            "flex_flow": null,
            "grid_area": null,
            "grid_auto_columns": null,
            "grid_auto_flow": null,
            "grid_auto_rows": null,
            "grid_column": null,
            "grid_gap": null,
            "grid_row": null,
            "grid_template_areas": null,
            "grid_template_columns": null,
            "grid_template_rows": null,
            "height": null,
            "justify_content": null,
            "justify_items": null,
            "left": null,
            "margin": null,
            "max_height": null,
            "max_width": null,
            "min_height": null,
            "min_width": null,
            "object_fit": null,
            "object_position": null,
            "order": null,
            "overflow": null,
            "overflow_x": null,
            "overflow_y": null,
            "padding": null,
            "right": null,
            "top": null,
            "visibility": null,
            "width": null
          }
        },
        "b56242ca24d744a1b00f3166dd5f9860": {
          "model_module": "@jupyter-widgets/base",
          "model_name": "LayoutModel",
          "model_module_version": "1.2.0",
          "state": {
            "_model_module": "@jupyter-widgets/base",
            "_model_module_version": "1.2.0",
            "_model_name": "LayoutModel",
            "_view_count": null,
            "_view_module": "@jupyter-widgets/base",
            "_view_module_version": "1.2.0",
            "_view_name": "LayoutView",
            "align_content": null,
            "align_items": null,
            "align_self": null,
            "border": null,
            "bottom": null,
            "display": null,
            "flex": null,
            "flex_flow": null,
            "grid_area": null,
            "grid_auto_columns": null,
            "grid_auto_flow": null,
            "grid_auto_rows": null,
            "grid_column": null,
            "grid_gap": null,
            "grid_row": null,
            "grid_template_areas": null,
            "grid_template_columns": null,
            "grid_template_rows": null,
            "height": null,
            "justify_content": null,
            "justify_items": null,
            "left": null,
            "margin": null,
            "max_height": null,
            "max_width": null,
            "min_height": null,
            "min_width": null,
            "object_fit": null,
            "object_position": null,
            "order": null,
            "overflow": null,
            "overflow_x": null,
            "overflow_y": null,
            "padding": null,
            "right": null,
            "top": null,
            "visibility": null,
            "width": null
          }
        },
        "09293512357f4345a5db32efb11aa80a": {
          "model_module": "@jupyter-widgets/controls",
          "model_name": "DescriptionStyleModel",
          "model_module_version": "1.5.0",
          "state": {
            "_model_module": "@jupyter-widgets/controls",
            "_model_module_version": "1.5.0",
            "_model_name": "DescriptionStyleModel",
            "_view_count": null,
            "_view_module": "@jupyter-widgets/base",
            "_view_module_version": "1.2.0",
            "_view_name": "StyleView",
            "description_width": ""
          }
        },
        "ca569cbb5f30404da115359d2cc77a96": {
          "model_module": "@jupyter-widgets/base",
          "model_name": "LayoutModel",
          "model_module_version": "1.2.0",
          "state": {
            "_model_module": "@jupyter-widgets/base",
            "_model_module_version": "1.2.0",
            "_model_name": "LayoutModel",
            "_view_count": null,
            "_view_module": "@jupyter-widgets/base",
            "_view_module_version": "1.2.0",
            "_view_name": "LayoutView",
            "align_content": null,
            "align_items": null,
            "align_self": null,
            "border": null,
            "bottom": null,
            "display": null,
            "flex": null,
            "flex_flow": null,
            "grid_area": null,
            "grid_auto_columns": null,
            "grid_auto_flow": null,
            "grid_auto_rows": null,
            "grid_column": null,
            "grid_gap": null,
            "grid_row": null,
            "grid_template_areas": null,
            "grid_template_columns": null,
            "grid_template_rows": null,
            "height": null,
            "justify_content": null,
            "justify_items": null,
            "left": null,
            "margin": null,
            "max_height": null,
            "max_width": null,
            "min_height": null,
            "min_width": null,
            "object_fit": null,
            "object_position": null,
            "order": null,
            "overflow": null,
            "overflow_x": null,
            "overflow_y": null,
            "padding": null,
            "right": null,
            "top": null,
            "visibility": null,
            "width": null
          }
        },
        "a2fd0c8b469f4e3ebeacbe1daf29a071": {
          "model_module": "@jupyter-widgets/controls",
          "model_name": "ProgressStyleModel",
          "model_module_version": "1.5.0",
          "state": {
            "_model_module": "@jupyter-widgets/controls",
            "_model_module_version": "1.5.0",
            "_model_name": "ProgressStyleModel",
            "_view_count": null,
            "_view_module": "@jupyter-widgets/base",
            "_view_module_version": "1.2.0",
            "_view_name": "StyleView",
            "bar_color": null,
            "description_width": ""
          }
        },
        "1ef4bbec492141808016c0121d82db01": {
          "model_module": "@jupyter-widgets/base",
          "model_name": "LayoutModel",
          "model_module_version": "1.2.0",
          "state": {
            "_model_module": "@jupyter-widgets/base",
            "_model_module_version": "1.2.0",
            "_model_name": "LayoutModel",
            "_view_count": null,
            "_view_module": "@jupyter-widgets/base",
            "_view_module_version": "1.2.0",
            "_view_name": "LayoutView",
            "align_content": null,
            "align_items": null,
            "align_self": null,
            "border": null,
            "bottom": null,
            "display": null,
            "flex": null,
            "flex_flow": null,
            "grid_area": null,
            "grid_auto_columns": null,
            "grid_auto_flow": null,
            "grid_auto_rows": null,
            "grid_column": null,
            "grid_gap": null,
            "grid_row": null,
            "grid_template_areas": null,
            "grid_template_columns": null,
            "grid_template_rows": null,
            "height": null,
            "justify_content": null,
            "justify_items": null,
            "left": null,
            "margin": null,
            "max_height": null,
            "max_width": null,
            "min_height": null,
            "min_width": null,
            "object_fit": null,
            "object_position": null,
            "order": null,
            "overflow": null,
            "overflow_x": null,
            "overflow_y": null,
            "padding": null,
            "right": null,
            "top": null,
            "visibility": null,
            "width": null
          }
        },
        "6cce36ca19ca4407873b089188702641": {
          "model_module": "@jupyter-widgets/controls",
          "model_name": "DescriptionStyleModel",
          "model_module_version": "1.5.0",
          "state": {
            "_model_module": "@jupyter-widgets/controls",
            "_model_module_version": "1.5.0",
            "_model_name": "DescriptionStyleModel",
            "_view_count": null,
            "_view_module": "@jupyter-widgets/base",
            "_view_module_version": "1.2.0",
            "_view_name": "StyleView",
            "description_width": ""
          }
        }
      }
    }
  },
  "cells": [
    {
      "cell_type": "code",
      "execution_count": 2,
      "metadata": {
        "id": "TwC18IXe3oJL"
      },
      "outputs": [],
      "source": [
        "!pip install transformers[sentencepiece] datasets rouge_score py7zr -q"
      ]
    },
    {
      "cell_type": "markdown",
      "source": [
        "In the first line of code, we install different packages needed for our summarization task. \n",
        "\n",
        "transformers : Used to import tokenizers and models\n",
        "\n",
        "sentencepiece : It is an unsupervised text tokenizer and detokenizer mainly for Neural Network-based text generation systems where the vocabulary size is predetermined prior to the neural model training.\n",
        "\n",
        "datasets : used to import cnn/daily-mail dataset\n",
        "\n",
        "py7zr : py7zr is a library and utility to support 7zip archive compression, decompression, encryption and decryption. \n",
        "\n",
        "\n"
      ],
      "metadata": {
        "id": "sk-Y9t2HDdm0"
      }
    },
    {
      "cell_type": "code",
      "source": [
        "from transformers import pipeline, set_seed\n",
        "\n",
        "import matplotlib.pyplot as plt\n",
        "\n",
        "import pandas as pd\n",
        "from datasets import load_dataset, load_metric\n",
        "from transformers import AutoModelForSeq2SeqLM, AutoTokenizer\n",
        "\n",
        "import pandas as pd\n",
        "import numpy as np\n",
        "\n",
        "import nltk\n",
        "from nltk.tokenize import sent_tokenize\n",
        "\n",
        "nltk.download(\"punkt\")\n",
        "\n",
        "#importing the required datasets, models and tokenizers from our installed packages. "
      ],
      "metadata": {
        "colab": {
          "base_uri": "https://localhost:8080/"
        },
        "id": "ECwUWkRB390z",
        "outputId": "d80c1cd3-0e48-4cdf-d2be-4d75a757f996"
      },
      "execution_count": 3,
      "outputs": [
        {
          "output_type": "stream",
          "name": "stderr",
          "text": [
            "[nltk_data] Downloading package punkt to /root/nltk_data...\n",
            "[nltk_data]   Package punkt is already up-to-date!\n"
          ]
        },
        {
          "output_type": "execute_result",
          "data": {
            "text/plain": [
              "True"
            ]
          },
          "metadata": {},
          "execution_count": 3
        }
      ]
    },
    {
      "cell_type": "code",
      "source": [
        "from datasets import load_dataset\n",
        "\n",
        "dataset = load_dataset(\"cnn_dailymail\", version=\"3.0.0\")\n",
        "\n",
        "print(f\"Features in cnn_dailymail : {dataset['train'].column_names}\")\n",
        "\n",
        "# Here, we load the cnn/daily-mail dataset ; from the hugging face library. "
      ],
      "metadata": {
        "colab": {
          "base_uri": "https://localhost:8080/",
          "height": 105,
          "referenced_widgets": [
            "3e7eb46e061f4502a731adcd9b1a3307",
            "7d528b269ec541199551d91f0c6abf48",
            "7190e25b7fc34cf49dc7b62f173585f9",
            "0bb175375eea4883b8874bb389578e83",
            "6c932e00d2c645efb5b748bd54cab000",
            "b56242ca24d744a1b00f3166dd5f9860",
            "09293512357f4345a5db32efb11aa80a",
            "ca569cbb5f30404da115359d2cc77a96",
            "a2fd0c8b469f4e3ebeacbe1daf29a071",
            "1ef4bbec492141808016c0121d82db01",
            "6cce36ca19ca4407873b089188702641"
          ]
        },
        "id": "-GnwThop4MfZ",
        "outputId": "3cb5e007-f551-4f1d-bb9a-db6bd4e47773"
      },
      "execution_count": 4,
      "outputs": [
        {
          "output_type": "stream",
          "name": "stderr",
          "text": [
            "WARNING:datasets.builder:Found cached dataset cnn_dailymail (/root/.cache/huggingface/datasets/cnn_dailymail/default/3.0.0/1b3c71476f6d152c31c1730e83ccb08bcf23e348233f4fcc11e182248e6bf7de)\n"
          ]
        },
        {
          "output_type": "display_data",
          "data": {
            "text/plain": [
              "  0%|          | 0/3 [00:00<?, ?it/s]"
            ],
            "application/vnd.jupyter.widget-view+json": {
              "version_major": 2,
              "version_minor": 0,
              "model_id": "3e7eb46e061f4502a731adcd9b1a3307"
            }
          },
          "metadata": {}
        },
        {
          "output_type": "stream",
          "name": "stdout",
          "text": [
            "Features in cnn_dailymail : ['article', 'highlights', 'id']\n"
          ]
        }
      ]
    },
    {
      "cell_type": "code",
      "source": [
        "sample = dataset[\"train\"][1]\n",
        "print(f\"\"\"\n",
        "Article (excerpt of 500 characters, total length: {len(sample[\"article\"])}):\n",
        "\"\"\")\n",
        "print(sample[\"article\"][:500])\n",
        "print(f'\\nSummary (length: {len(sample[\"highlights\"])}):')\n",
        "print(sample[\"highlights\"])"
      ],
      "metadata": {
        "colab": {
          "base_uri": "https://localhost:8080/"
        },
        "id": "UoKrFcWd5KYz",
        "outputId": "4bc3f63f-640e-45d4-f319-43edf93a01f7"
      },
      "execution_count": 5,
      "outputs": [
        {
          "output_type": "stream",
          "name": "stdout",
          "text": [
            "\n",
            "Article (excerpt of 500 characters, total length: 4051):\n",
            "\n",
            "Editor's note: In our Behind the Scenes series, CNN correspondents share their experiences in covering news and analyze the stories behind the events. Here, Soledad O'Brien takes users inside a jail where many of the inmates are mentally ill. An inmate housed on the \"forgotten floor,\" where many mentally ill inmates are housed in Miami before trial. MIAMI, Florida (CNN) -- The ninth floor of the Miami-Dade pretrial detention facility is dubbed the \"forgotten floor.\" Here, inmates with the most s\n",
            "\n",
            "Summary (length: 281):\n",
            "Mentally ill inmates in Miami are housed on the \"forgotten floor\"\n",
            "Judge Steven Leifman says most are there as a result of \"avoidable felonies\"\n",
            "While CNN tours facility, patient shouts: \"I am the son of the president\"\n",
            "Leifman says the system is unjust and he's fighting for change .\n"
          ]
        }
      ]
    },
    {
      "cell_type": "code",
      "source": [
        "sample_text = dataset[\"train\"][1][\"article\"][:1000]\n",
        "#Due to GPU constraints,I am considering only the first 1000 articles.\n",
        "#Here, we are storing the generated summaries of each model in a dictionary\n",
        "summaries = {}"
      ],
      "metadata": {
        "id": "XEE_irPJ5UYH"
      },
      "execution_count": 6,
      "outputs": []
    },
    {
      "cell_type": "code",
      "source": [
        "def baseline_summary_three_sent(text):\n",
        "    return \"\\n\".join(sent_tokenize(text)[:3])"
      ],
      "metadata": {
        "id": "VBZTHCal5Y1S"
      },
      "execution_count": 7,
      "outputs": []
    },
    {
      "cell_type": "code",
      "source": [
        "summaries['baseline'] = baseline_summary_three_sent(sample_text)\n",
        "\n",
        "summaries['baseline']"
      ],
      "metadata": {
        "colab": {
          "base_uri": "https://localhost:8080/",
          "height": 89
        },
        "id": "AIUHPfbf5bO7",
        "outputId": "1e81fd7c-3602-4eb3-ce68-a951e0ff06a2"
      },
      "execution_count": 8,
      "outputs": [
        {
          "output_type": "execute_result",
          "data": {
            "text/plain": [
              "'Editor\\'s note: In our Behind the Scenes series, CNN correspondents share their experiences in covering news and analyze the stories behind the events.\\nHere, Soledad O\\'Brien takes users inside a jail where many of the inmates are mentally ill. An inmate housed on the \"forgotten floor,\" where many mentally ill inmates are housed in Miami before trial.\\nMIAMI, Florida (CNN) -- The ninth floor of the Miami-Dade pretrial detention facility is dubbed the \"forgotten floor.\"'"
            ],
            "application/vnd.google.colaboratory.intrinsic+json": {
              "type": "string"
            }
          },
          "metadata": {},
          "execution_count": 8
        }
      ]
    },
    {
      "cell_type": "code",
      "source": [
        "\n",
        "pipe = pipeline(\"summarization\", model=\"facebook/bart-large\")\n",
        "pipe_out = pipe(sample_text)\n",
        "\n",
        "# Here, we are using the BART-Large Model for our summarization task. \n",
        "#A detailed information about the same can be found in the readme file.\n",
        "\n",
        "\n"
      ],
      "metadata": {
        "colab": {
          "base_uri": "https://localhost:8080/"
        },
        "id": "qAP6MkEr5dwo",
        "outputId": "3b0a8966-5e69-44ea-f5fc-db354cc68efd"
      },
      "execution_count": 9,
      "outputs": [
        {
          "output_type": "stream",
          "name": "stderr",
          "text": [
            "/usr/local/lib/python3.10/dist-packages/transformers/generation/utils.py:1219: UserWarning: You have modified the pretrained model configuration to control generation. This is a deprecated strategy to control generation and will be removed soon, in a future version. Please use a generation configuration file (see https://huggingface.co/docs/transformers/main_classes/text_generation)\n",
            "  warnings.warn(\n"
          ]
        }
      ]
    },
    {
      "cell_type": "code",
      "source": [
        "pipe_out"
      ],
      "metadata": {
        "colab": {
          "base_uri": "https://localhost:8080/"
        },
        "id": "8SNbK4TQ5jA0",
        "outputId": "1b2e9b64-8668-4d09-93d9-5fcd377225c3"
      },
      "execution_count": 10,
      "outputs": [
        {
          "output_type": "execute_result",
          "data": {
            "text/plain": [
              "[{'summary_text': 'Editor\\'s note: In our Behind the Scenes series, CNN correspondents share their experiences in covering news and analyze the stories behind the events. Here, Soledad O\\'Brien takes us inside a jail where many of the inmates are mentally ill. MIAMI, Florida (CNN) -- The ninth floor of the Miami-Dade pretrial detention facility is dubbed the \"forgotten floor.\" Here, inmates with the most severe mental illnesses are incarcerated until they\\'re ready to appear in court. Most often, they face drug charges or charges of assaulting an officer --charges that Judge Steven Leifman says are usually \"avoid'}]"
            ]
          },
          "metadata": {},
          "execution_count": 10
        }
      ]
    },
    {
      "cell_type": "code",
      "source": [
        "summaries[\"bart\"] = \"\\n\".join(sent_tokenize(pipe_out[0][\"summary_text\"]))"
      ],
      "metadata": {
        "id": "A9r0Cht_6jmF"
      },
      "execution_count": 11,
      "outputs": []
    },
    {
      "cell_type": "code",
      "source": [
        "summaries[\"bart\"]"
      ],
      "metadata": {
        "colab": {
          "base_uri": "https://localhost:8080/",
          "height": 89
        },
        "id": "kQLmzx3p6owD",
        "outputId": "84dbfda0-3824-4197-c7bc-c8efe9f4287d"
      },
      "execution_count": 12,
      "outputs": [
        {
          "output_type": "execute_result",
          "data": {
            "text/plain": [
              "'Editor\\'s note: In our Behind the Scenes series, CNN correspondents share their experiences in covering news and analyze the stories behind the events.\\nHere, Soledad O\\'Brien takes us inside a jail where many of the inmates are mentally ill. MIAMI, Florida (CNN) -- The ninth floor of the Miami-Dade pretrial detention facility is dubbed the \"forgotten floor.\"\\nHere, inmates with the most severe mental illnesses are incarcerated until they\\'re ready to appear in court.\\nMost often, they face drug charges or charges of assaulting an officer --charges that Judge Steven Leifman says are usually \"avoid'"
            ],
            "application/vnd.google.colaboratory.intrinsic+json": {
              "type": "string"
            }
          },
          "metadata": {},
          "execution_count": 12
        }
      ]
    },
    {
      "cell_type": "markdown",
      "source": [
        "#Using the ROGUE Metric\n",
        "\n"
      ],
      "metadata": {
        "id": "BLuy_zESZ1p3"
      }
    },
    {
      "cell_type": "code",
      "source": [
        "rouge_metric = load_metric('rouge')"
      ],
      "metadata": {
        "colab": {
          "base_uri": "https://localhost:8080/"
        },
        "id": "l2rSg5AJVWCg",
        "outputId": "4773fdc3-1361-41ca-bf0e-74f38bc614c4"
      },
      "execution_count": 13,
      "outputs": [
        {
          "output_type": "stream",
          "name": "stderr",
          "text": [
            "<ipython-input-13-90542a62301a>:1: FutureWarning: load_metric is deprecated and will be removed in the next major version of datasets. Use 'evaluate.load' instead, from the new library 🤗 Evaluate: https://huggingface.co/docs/evaluate\n",
            "  rouge_metric = load_metric('rouge')\n"
          ]
        }
      ]
    },
    {
      "cell_type": "code",
      "source": [
        "rouge_names = [\"rouge1\", \"rouge2\", \"rougeL\", \"rougeLsum\"]\n",
        "\n",
        "reference = dataset['train'][1]['highlights']\n",
        "\n",
        "records = []\n",
        "\n",
        "for model_name in summaries:\n",
        "    rouge_metric.add(prediction = summaries[model_name], reference = reference )\n",
        "    score = rouge_metric.compute()\n",
        "    rouge_dict = dict((rn, score[rn].mid.fmeasure ) for rn in rouge_names )\n",
        "    print('rouge_dict ', rouge_dict )\n",
        "    records.append(rouge_dict)\n",
        "\n",
        "pd.DataFrame.from_records(records, index = summaries.keys() )"
      ],
      "metadata": {
        "colab": {
          "base_uri": "https://localhost:8080/",
          "height": 148
        },
        "id": "qxekPmewVZVM",
        "outputId": "fce8fb11-6da4-45cf-b551-ed36675f6f76"
      },
      "execution_count": 14,
      "outputs": [
        {
          "output_type": "stream",
          "name": "stdout",
          "text": [
            "rouge_dict  {'rouge1': 0.365079365079365, 'rouge2': 0.14516129032258066, 'rougeL': 0.20634920634920634, 'rougeLsum': 0.2857142857142857}\n",
            "rouge_dict  {'rouge1': 0.35374149659863946, 'rouge2': 0.09655172413793102, 'rougeL': 0.14965986394557823, 'rougeLsum': 0.3129251700680272}\n"
          ]
        },
        {
          "output_type": "execute_result",
          "data": {
            "text/plain": [
              "            rouge1    rouge2    rougeL  rougeLsum\n",
              "baseline  0.365079  0.145161  0.206349   0.285714\n",
              "bart      0.353741  0.096552  0.149660   0.312925"
            ],
            "text/html": [
              "\n",
              "  <div id=\"df-b0d1d625-4c8a-471d-b6ff-394aeba526e0\">\n",
              "    <div class=\"colab-df-container\">\n",
              "      <div>\n",
              "<style scoped>\n",
              "    .dataframe tbody tr th:only-of-type {\n",
              "        vertical-align: middle;\n",
              "    }\n",
              "\n",
              "    .dataframe tbody tr th {\n",
              "        vertical-align: top;\n",
              "    }\n",
              "\n",
              "    .dataframe thead th {\n",
              "        text-align: right;\n",
              "    }\n",
              "</style>\n",
              "<table border=\"1\" class=\"dataframe\">\n",
              "  <thead>\n",
              "    <tr style=\"text-align: right;\">\n",
              "      <th></th>\n",
              "      <th>rouge1</th>\n",
              "      <th>rouge2</th>\n",
              "      <th>rougeL</th>\n",
              "      <th>rougeLsum</th>\n",
              "    </tr>\n",
              "  </thead>\n",
              "  <tbody>\n",
              "    <tr>\n",
              "      <th>baseline</th>\n",
              "      <td>0.365079</td>\n",
              "      <td>0.145161</td>\n",
              "      <td>0.206349</td>\n",
              "      <td>0.285714</td>\n",
              "    </tr>\n",
              "    <tr>\n",
              "      <th>bart</th>\n",
              "      <td>0.353741</td>\n",
              "      <td>0.096552</td>\n",
              "      <td>0.149660</td>\n",
              "      <td>0.312925</td>\n",
              "    </tr>\n",
              "  </tbody>\n",
              "</table>\n",
              "</div>\n",
              "      <button class=\"colab-df-convert\" onclick=\"convertToInteractive('df-b0d1d625-4c8a-471d-b6ff-394aeba526e0')\"\n",
              "              title=\"Convert this dataframe to an interactive table.\"\n",
              "              style=\"display:none;\">\n",
              "        \n",
              "  <svg xmlns=\"http://www.w3.org/2000/svg\" height=\"24px\"viewBox=\"0 0 24 24\"\n",
              "       width=\"24px\">\n",
              "    <path d=\"M0 0h24v24H0V0z\" fill=\"none\"/>\n",
              "    <path d=\"M18.56 5.44l.94 2.06.94-2.06 2.06-.94-2.06-.94-.94-2.06-.94 2.06-2.06.94zm-11 1L8.5 8.5l.94-2.06 2.06-.94-2.06-.94L8.5 2.5l-.94 2.06-2.06.94zm10 10l.94 2.06.94-2.06 2.06-.94-2.06-.94-.94-2.06-.94 2.06-2.06.94z\"/><path d=\"M17.41 7.96l-1.37-1.37c-.4-.4-.92-.59-1.43-.59-.52 0-1.04.2-1.43.59L10.3 9.45l-7.72 7.72c-.78.78-.78 2.05 0 2.83L4 21.41c.39.39.9.59 1.41.59.51 0 1.02-.2 1.41-.59l7.78-7.78 2.81-2.81c.8-.78.8-2.07 0-2.86zM5.41 20L4 18.59l7.72-7.72 1.47 1.35L5.41 20z\"/>\n",
              "  </svg>\n",
              "      </button>\n",
              "      \n",
              "  <style>\n",
              "    .colab-df-container {\n",
              "      display:flex;\n",
              "      flex-wrap:wrap;\n",
              "      gap: 12px;\n",
              "    }\n",
              "\n",
              "    .colab-df-convert {\n",
              "      background-color: #E8F0FE;\n",
              "      border: none;\n",
              "      border-radius: 50%;\n",
              "      cursor: pointer;\n",
              "      display: none;\n",
              "      fill: #1967D2;\n",
              "      height: 32px;\n",
              "      padding: 0 0 0 0;\n",
              "      width: 32px;\n",
              "    }\n",
              "\n",
              "    .colab-df-convert:hover {\n",
              "      background-color: #E2EBFA;\n",
              "      box-shadow: 0px 1px 2px rgba(60, 64, 67, 0.3), 0px 1px 3px 1px rgba(60, 64, 67, 0.15);\n",
              "      fill: #174EA6;\n",
              "    }\n",
              "\n",
              "    [theme=dark] .colab-df-convert {\n",
              "      background-color: #3B4455;\n",
              "      fill: #D2E3FC;\n",
              "    }\n",
              "\n",
              "    [theme=dark] .colab-df-convert:hover {\n",
              "      background-color: #434B5C;\n",
              "      box-shadow: 0px 1px 3px 1px rgba(0, 0, 0, 0.15);\n",
              "      filter: drop-shadow(0px 1px 2px rgba(0, 0, 0, 0.3));\n",
              "      fill: #FFFFFF;\n",
              "    }\n",
              "  </style>\n",
              "\n",
              "      <script>\n",
              "        const buttonEl =\n",
              "          document.querySelector('#df-b0d1d625-4c8a-471d-b6ff-394aeba526e0 button.colab-df-convert');\n",
              "        buttonEl.style.display =\n",
              "          google.colab.kernel.accessAllowed ? 'block' : 'none';\n",
              "\n",
              "        async function convertToInteractive(key) {\n",
              "          const element = document.querySelector('#df-b0d1d625-4c8a-471d-b6ff-394aeba526e0');\n",
              "          const dataTable =\n",
              "            await google.colab.kernel.invokeFunction('convertToInteractive',\n",
              "                                                     [key], {});\n",
              "          if (!dataTable) return;\n",
              "\n",
              "          const docLinkHtml = 'Like what you see? Visit the ' +\n",
              "            '<a target=\"_blank\" href=https://colab.research.google.com/notebooks/data_table.ipynb>data table notebook</a>'\n",
              "            + ' to learn more about interactive tables.';\n",
              "          element.innerHTML = '';\n",
              "          dataTable['output_type'] = 'display_data';\n",
              "          await google.colab.output.renderOutput(dataTable, element);\n",
              "          const docLink = document.createElement('div');\n",
              "          docLink.innerHTML = docLinkHtml;\n",
              "          element.appendChild(docLink);\n",
              "        }\n",
              "      </script>\n",
              "    </div>\n",
              "  </div>\n",
              "  "
            ]
          },
          "metadata": {},
          "execution_count": 14
        }
      ]
    },
    {
      "cell_type": "code",
      "source": [
        "def calculate_metric_on_baseline_test_ds(dataset, metric, column_text = 'article', column_summary = 'highlights' ):\n",
        "    summaries = [baseline_summary_three_sent(text) for text in dataset[column_text] ]\n",
        "\n",
        "    metric.add_batch(predictions = summaries, references = dataset[column_summary] )\n",
        "\n",
        "    score = metric.compute()\n",
        "    return score"
      ],
      "metadata": {
        "id": "ZOBewiMxVgfh"
      },
      "execution_count": 15,
      "outputs": []
    },
    {
      "cell_type": "code",
      "source": [
        "test_sampled = dataset['train'].shuffle(seed = 42).select(range(1000))\n",
        "\n",
        "score = calculate_metric_on_baseline_test_ds(test_sampled, rouge_metric )\n",
        "\n",
        "rouge_dict = dict((rn, score[rn].mid.fmeasure ) for rn in rouge_names )\n",
        "\n",
        "pd.DataFrame.from_dict(rouge_dict, orient = 'index' , columns = ['baseline'] ).T"
      ],
      "metadata": {
        "colab": {
          "base_uri": "https://localhost:8080/",
          "height": 119
        },
        "id": "Fu9D28g4Vqhr",
        "outputId": "2368970a-fca7-4cc5-eb71-fc1cb856a05c"
      },
      "execution_count": 16,
      "outputs": [
        {
          "output_type": "stream",
          "name": "stderr",
          "text": [
            "WARNING:datasets.arrow_dataset:Loading cached shuffled indices for dataset at /root/.cache/huggingface/datasets/cnn_dailymail/default/3.0.0/1b3c71476f6d152c31c1730e83ccb08bcf23e348233f4fcc11e182248e6bf7de/cache-c98764b7079899be.arrow\n"
          ]
        },
        {
          "output_type": "execute_result",
          "data": {
            "text/plain": [
              "           rouge1    rouge2   rougeL  rougeLsum\n",
              "baseline  0.25393  0.100672  0.16604    0.23201"
            ],
            "text/html": [
              "\n",
              "  <div id=\"df-32362e27-03e4-4551-a4cb-28a58e992793\">\n",
              "    <div class=\"colab-df-container\">\n",
              "      <div>\n",
              "<style scoped>\n",
              "    .dataframe tbody tr th:only-of-type {\n",
              "        vertical-align: middle;\n",
              "    }\n",
              "\n",
              "    .dataframe tbody tr th {\n",
              "        vertical-align: top;\n",
              "    }\n",
              "\n",
              "    .dataframe thead th {\n",
              "        text-align: right;\n",
              "    }\n",
              "</style>\n",
              "<table border=\"1\" class=\"dataframe\">\n",
              "  <thead>\n",
              "    <tr style=\"text-align: right;\">\n",
              "      <th></th>\n",
              "      <th>rouge1</th>\n",
              "      <th>rouge2</th>\n",
              "      <th>rougeL</th>\n",
              "      <th>rougeLsum</th>\n",
              "    </tr>\n",
              "  </thead>\n",
              "  <tbody>\n",
              "    <tr>\n",
              "      <th>baseline</th>\n",
              "      <td>0.25393</td>\n",
              "      <td>0.100672</td>\n",
              "      <td>0.16604</td>\n",
              "      <td>0.23201</td>\n",
              "    </tr>\n",
              "  </tbody>\n",
              "</table>\n",
              "</div>\n",
              "      <button class=\"colab-df-convert\" onclick=\"convertToInteractive('df-32362e27-03e4-4551-a4cb-28a58e992793')\"\n",
              "              title=\"Convert this dataframe to an interactive table.\"\n",
              "              style=\"display:none;\">\n",
              "        \n",
              "  <svg xmlns=\"http://www.w3.org/2000/svg\" height=\"24px\"viewBox=\"0 0 24 24\"\n",
              "       width=\"24px\">\n",
              "    <path d=\"M0 0h24v24H0V0z\" fill=\"none\"/>\n",
              "    <path d=\"M18.56 5.44l.94 2.06.94-2.06 2.06-.94-2.06-.94-.94-2.06-.94 2.06-2.06.94zm-11 1L8.5 8.5l.94-2.06 2.06-.94-2.06-.94L8.5 2.5l-.94 2.06-2.06.94zm10 10l.94 2.06.94-2.06 2.06-.94-2.06-.94-.94-2.06-.94 2.06-2.06.94z\"/><path d=\"M17.41 7.96l-1.37-1.37c-.4-.4-.92-.59-1.43-.59-.52 0-1.04.2-1.43.59L10.3 9.45l-7.72 7.72c-.78.78-.78 2.05 0 2.83L4 21.41c.39.39.9.59 1.41.59.51 0 1.02-.2 1.41-.59l7.78-7.78 2.81-2.81c.8-.78.8-2.07 0-2.86zM5.41 20L4 18.59l7.72-7.72 1.47 1.35L5.41 20z\"/>\n",
              "  </svg>\n",
              "      </button>\n",
              "      \n",
              "  <style>\n",
              "    .colab-df-container {\n",
              "      display:flex;\n",
              "      flex-wrap:wrap;\n",
              "      gap: 12px;\n",
              "    }\n",
              "\n",
              "    .colab-df-convert {\n",
              "      background-color: #E8F0FE;\n",
              "      border: none;\n",
              "      border-radius: 50%;\n",
              "      cursor: pointer;\n",
              "      display: none;\n",
              "      fill: #1967D2;\n",
              "      height: 32px;\n",
              "      padding: 0 0 0 0;\n",
              "      width: 32px;\n",
              "    }\n",
              "\n",
              "    .colab-df-convert:hover {\n",
              "      background-color: #E2EBFA;\n",
              "      box-shadow: 0px 1px 2px rgba(60, 64, 67, 0.3), 0px 1px 3px 1px rgba(60, 64, 67, 0.15);\n",
              "      fill: #174EA6;\n",
              "    }\n",
              "\n",
              "    [theme=dark] .colab-df-convert {\n",
              "      background-color: #3B4455;\n",
              "      fill: #D2E3FC;\n",
              "    }\n",
              "\n",
              "    [theme=dark] .colab-df-convert:hover {\n",
              "      background-color: #434B5C;\n",
              "      box-shadow: 0px 1px 3px 1px rgba(0, 0, 0, 0.15);\n",
              "      filter: drop-shadow(0px 1px 2px rgba(0, 0, 0, 0.3));\n",
              "      fill: #FFFFFF;\n",
              "    }\n",
              "  </style>\n",
              "\n",
              "      <script>\n",
              "        const buttonEl =\n",
              "          document.querySelector('#df-32362e27-03e4-4551-a4cb-28a58e992793 button.colab-df-convert');\n",
              "        buttonEl.style.display =\n",
              "          google.colab.kernel.accessAllowed ? 'block' : 'none';\n",
              "\n",
              "        async function convertToInteractive(key) {\n",
              "          const element = document.querySelector('#df-32362e27-03e4-4551-a4cb-28a58e992793');\n",
              "          const dataTable =\n",
              "            await google.colab.kernel.invokeFunction('convertToInteractive',\n",
              "                                                     [key], {});\n",
              "          if (!dataTable) return;\n",
              "\n",
              "          const docLinkHtml = 'Like what you see? Visit the ' +\n",
              "            '<a target=\"_blank\" href=https://colab.research.google.com/notebooks/data_table.ipynb>data table notebook</a>'\n",
              "            + ' to learn more about interactive tables.';\n",
              "          element.innerHTML = '';\n",
              "          dataTable['output_type'] = 'display_data';\n",
              "          await google.colab.output.renderOutput(dataTable, element);\n",
              "          const docLink = document.createElement('div');\n",
              "          docLink.innerHTML = docLinkHtml;\n",
              "          element.appendChild(docLink);\n",
              "        }\n",
              "      </script>\n",
              "    </div>\n",
              "  </div>\n",
              "  "
            ]
          },
          "metadata": {},
          "execution_count": 16
        }
      ]
    },
    {
      "cell_type": "code",
      "source": [
        "from tqdm import tqdm\n",
        "import torch\n",
        "\n",
        "device = \"cuda\" if torch.cuda.is_available() else \"cpu\"\n",
        "\n",
        "def generate_batch_sized_chunks(list_of_elements, batch_size):\n",
        "    \"\"\"split the dataset into smaller batches that we can process simultaneously\n",
        "    Yield successive batch-sized chunks from list_of_elements.\"\"\"\n",
        "    for i in range(0, len(list_of_elements), batch_size):\n",
        "        yield list_of_elements[i : i + batch_size]\n",
        "\n",
        "def calculate_metric_on_test_ds(dataset, metric, model, tokenizer, \n",
        "                               batch_size=16, device=device, \n",
        "                               column_text=\"article\", \n",
        "                               column_summary=\"highlights\"):\n",
        "    article_batches = list(generate_batch_sized_chunks(dataset[column_text], batch_size))\n",
        "    target_batches = list(generate_batch_sized_chunks(dataset[column_summary], batch_size))\n",
        "\n",
        "    for article_batch, target_batch in tqdm(\n",
        "        zip(article_batches, target_batches), total=len(article_batches)):\n",
        "        \n",
        "        inputs = tokenizer(article_batch, max_length=1024,  truncation=True, \n",
        "                        padding=\"max_length\", return_tensors=\"pt\")\n",
        "        \n",
        "        summaries = model.generate(input_ids=inputs[\"input_ids\"].to(device),\n",
        "                         attention_mask=inputs[\"attention_mask\"].to(device), \n",
        "                         length_penalty=0.8, num_beams=8, max_length=128)\n",
        "        ''' parameter for length penalty ensures that the model does not generate sequences that are too long. '''\n",
        "        \n",
        "        # Finally, we decode the generated texts, \n",
        "        # replace the <n> token, and add the decoded texts with the references to the metric.\n",
        "        decoded_summaries = [tokenizer.decode(s, skip_special_tokens=True, \n",
        "                                clean_up_tokenization_spaces=True) \n",
        "               for s in summaries]      \n",
        "        \n",
        "        decoded_summaries = [d.replace(\"<n>\", \" \") for d in decoded_summaries]\n",
        "        \n",
        "        \n",
        "        metric.add_batch(predictions=decoded_summaries, references=target_batch)\n",
        "        \n",
        "    #  Finally compute and return the ROUGE scores.\n",
        "    score = metric.compute()\n",
        "    return score"
      ],
      "metadata": {
        "id": "reuRQ35-WlpO"
      },
      "execution_count": 17,
      "outputs": []
    },
    {
      "cell_type": "code",
      "source": [
        "from transformers import AutoModelForSeq2SeqLM, AutoTokenizer\n",
        "\n",
        "model_ckpt = \"facebook/bart-large\"\n",
        "\n",
        "tokenizer = AutoTokenizer.from_pretrained(model_ckpt)\n",
        "\n",
        "model_bart = AutoModelForSeq2SeqLM.from_pretrained(model_ckpt).to(device)\n",
        "\n",
        "score = calculate_metric_on_test_ds(test_sampled, rouge_metric, \n",
        "                                   model_bart, tokenizer, batch_size=5)\n",
        "\n",
        "rouge_dict = dict((rn, score[rn].mid.fmeasure) for rn in rouge_names)\n",
        "\n",
        "# At the end, we compute and return the ROUGE scores.\n",
        "pd.DataFrame(rouge_dict, index=[\"bart\"])"
      ],
      "metadata": {
        "colab": {
          "base_uri": "https://localhost:8080/"
        },
        "id": "3QQIVztCWvjV",
        "outputId": "85ed08f1-a2f4-493d-e9b8-000153c49447"
      },
      "execution_count": null,
      "outputs": [
        {
          "output_type": "stream",
          "name": "stderr",
          "text": [
            "\r  0%|          | 0/200 [00:00<?, ?it/s]"
          ]
        }
      ]
    },
    {
      "cell_type": "markdown",
      "source": [
        "Because Google colab doesn't have Enough GPU support, we will not be able to calculate the rogue score using colab. \n"
      ],
      "metadata": {
        "id": "tB3Fz0zMZlyQ"
      }
    },
    {
      "cell_type": "markdown",
      "source": [
        "Using large GPU's BART has a very good rogue metric as follows\n",
        "![Screenshot 2023-05-01 at 11.50.29 PM.png](data:image/png;base64,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)\n"
      ],
      "metadata": {
        "id": "wkSCHElbjOkr"
      }
    },
    {
      "cell_type": "code",
      "source": [],
      "metadata": {
        "id": "3MfYsnVwjR8-"
      },
      "execution_count": null,
      "outputs": []
    }
  ]
}